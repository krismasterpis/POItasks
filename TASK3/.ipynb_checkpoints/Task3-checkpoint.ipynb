{
 "cells": [
  {
   "metadata": {},
   "cell_type": "markdown",
   "source": "# Task3_2 - dzielenie obrazów na próbki(128x128px)",
   "id": "92005acdead82984"
  },
  {
   "metadata": {},
   "cell_type": "markdown",
   "source": "## Import bibliotek",
   "id": "6d83803f61a0b76b"
  },
  {
   "metadata": {},
   "cell_type": "code",
   "source": [
    "import os\n",
    "from PIL import Image"
   ],
   "id": "cbbbfac03afbc834",
   "outputs": [],
   "execution_count": null
  },
  {
   "metadata": {},
   "cell_type": "markdown",
   "source": "## Funkcja do wydzielania próbek",
   "id": "fa78793f9f25b1dc"
  },
  {
   "metadata": {},
   "cell_type": "code",
   "source": [
    "def extract_texture_patches(input_folder_name: str, output_folder_name: str, patch_size: int = 128):\n",
    "\n",
    "    if input_folder_name is None:\n",
    "        input_path = os.curdir\n",
    "    else:\n",
    "        input_path = input_folder_name\n",
    "    output_path = output_folder_name\n",
    "    os.makedirs(output_path, exist_ok = True)\n",
    "    print(f\"Katalog wyjściowy: '{output_path}'\")\n",
    "\n",
    "    allowed_extensions = {'.png', '.jpg', '.jpeg', '.bmp', '.tif', '.tiff'}\n",
    "\n",
    "    for image_file in os.listdir(input_path):\n",
    "        image_file_name, image_file_extension = os.path.splitext(image_file)\n",
    "        if image_file_extension in allowed_extensions:\n",
    "            category_name, image_file_suffix = os.path.splitext(image_file)\n",
    "            category_output_path = output_path+\"/\"+category_name\n",
    "            os.mkdir(category_output_path)\n",
    "\n",
    "            print(f\"\\nPrzetwarzanie obrazu: '{image_file}'\")\n",
    "\n",
    "            try:\n",
    "                with Image.open(image_file) as img:\n",
    "                    img_width, img_height = img.size\n",
    "                    print(f\"  Rozmiar oryginału: {img_width} x {img_height}\")\n",
    "\n",
    "                    if img_width < patch_size or img_height < patch_size:\n",
    "                        print(f\"  Ostrzeżenie: Obraz '{image_file}' jest mniejszy niż rozmiar próbki!\")\n",
    "                        continue\n",
    "\n",
    "                    patch_count = 0\n",
    "                    # Pętla y (wiersze)\n",
    "                    for y in range(0, img_height - patch_size + 1, patch_size):\n",
    "                        # Pętla x (kolumny)\n",
    "                        for x in range(0, img_width - patch_size + 1, patch_size):\n",
    "                            box = (x, y, x + patch_size, y + patch_size)\n",
    "\n",
    "                            patch = img.crop(box)\n",
    "\n",
    "                            patch_filename = f\"{category_name}_y{y}_x{x}{image_file_suffix}\"\n",
    "                            patch_save_path = category_output_path+\"/\"+patch_filename\n",
    "\n",
    "                            patch.save(patch_save_path)\n",
    "                            patch_count += 1\n",
    "\n",
    "                    if patch_count > 0:\n",
    "                         print(f\"  Wycięto i zapisano {patch_count} próbek.\")\n",
    "                    else:\n",
    "                         print(f\"  Nie wycięto żadnych próbek z obrazu '{image_file}'.\")\n",
    "\n",
    "            except Exception as e:\n",
    "                print(f\"  Błąd podczas przetwarzania pliku '{image_file}': {e}\")\n",
    "        # elif os.path.isfile(image_file):\n",
    "        #     print(f\"\\nBład rozszerzenia pliku!\")"
   ],
   "id": "32f5a9f60fdf594c",
   "outputs": [],
   "execution_count": null
  },
  {
   "metadata": {},
   "cell_type": "markdown",
   "source": "## Funkcja główna programu",
   "id": "f82f5f9279e4422d"
  },
  {
   "metadata": {},
   "cell_type": "code",
   "source": [
    "if __name__ == \"__main__\":\n",
    "    extract_texture_patches(None,\"output\")"
   ],
   "id": "61d9ec58d12ab2d7",
   "outputs": [],
   "execution_count": null
  },
  {
   "metadata": {},
   "cell_type": "markdown",
   "source": "# Task3_3 - Kategoryzowanie próbek i wyznaczanie macierzy cech tekstur",
   "id": "7e483db25a7464dd"
  },
  {
   "metadata": {},
   "cell_type": "markdown",
   "source": "## Importowanie bibliotek",
   "id": "e2244194f958c6a5"
  },
  {
   "metadata": {},
   "cell_type": "code",
   "execution_count": null,
   "source": [
    "import os\n",
    "import numpy as np\n",
    "import pandas as pd\n",
    "from skimage import io, color\n",
    "from skimage.feature import graycomatrix, graycoprops"
   ],
   "id": "dcf83417f6a0d1c0",
   "outputs": []
  },
  {
   "metadata": {},
   "cell_type": "markdown",
   "source": "## Przygotowanie parametrów",
   "id": "c71fc6285ac9cb65"
  },
  {
   "metadata": {},
   "cell_type": "code",
   "execution_count": null,
   "source": [
    "base_path = './output'\n",
    "\n",
    "# Parametry\n",
    "distances = [1, 3, 5]\n",
    "angles = [0, np.pi/4, np.pi/2, 3*np.pi/4]  # kąty w radianach: 0°, 45°, 90°, 135°\n",
    "properties = ['dissimilarity', 'correlation', 'contrast', 'energy', 'homogeneity', 'ASM']\n",
    "\n",
    "features_list = []"
   ],
   "id": "80535b1c76fea189",
   "outputs": []
  },
  {
   "metadata": {},
   "cell_type": "markdown",
   "source": "## Algorytm iteracyjny",
   "id": "fa06f34cc6f3ac49"
  },
  {
   "metadata": {},
   "cell_type": "code",
   "execution_count": null,
   "source": [
    "for category in os.listdir(base_path):\n",
    "    category_path = os.path.join(base_path, category)\n",
    "    if not os.path.isdir(category_path):\n",
    "        continue\n",
    "\n",
    "    for filename in os.listdir(category_path):\n",
    "        if filename.endswith(('.png', '.jpg', '.jpeg', '.bmp', '.tiff')):\n",
    "            filepath = os.path.join(category_path, filename)\n",
    "\n",
    "            image = io.imread(filepath)\n",
    "            gray = color.rgb2gray(image) if image.ndim == 3 else image\n",
    "\n",
    "            # Redukcja jasności do 5 bitów (64 poziomy)\n",
    "            gray_5bit = (gray * 63).astype(np.uint8)\n",
    "\n",
    "            # Obliczanie macierzy GLCM\n",
    "            glcm = graycomatrix(gray_5bit, distances=distances, angles=angles,\n",
    "                                levels=64, symmetric=True, normed=True)\n",
    "\n",
    "            # Obliczanie cech\n",
    "            feature_vector = []\n",
    "            for prop in properties:\n",
    "                prop_values = graycoprops(glcm, prop)\n",
    "                feature_vector.extend(prop_values.flatten())\n",
    "\n",
    "            feature_vector.append(category)\n",
    "\n",
    "            features_list.append(feature_vector)"
   ],
   "id": "8cb46885352535c7",
   "outputs": []
  },
  {
   "metadata": {},
   "cell_type": "markdown",
   "source": "## Przygotowywanie i zapis wektorów cech do pliku .csv",
   "id": "4281fad8e64f37dc"
  },
  {
   "metadata": {},
   "cell_type": "code",
   "outputs": [],
   "execution_count": null,
   "source": [
    "columns = []\n",
    "for prop in properties:\n",
    "    for distance in distances:\n",
    "        for angle_deg in [0, 45, 90, 135]:\n",
    "            columns.append(f'{prop}_d{distance}_a{angle_deg}')\n",
    "columns.append('category')\n",
    "\n",
    "features_df = pd.DataFrame(features_list, columns=columns)\n",
    "\n",
    "# Zapis do pliku CSV\n",
    "features_df.to_csv('texture_features.csv', index=False)\n",
    "\n",
    "print(\"Wyniki zapisane do 'texture_features.csv'.\")"
   ],
   "id": "67eb1f7c8b5333bd"
  },
  {
   "metadata": {},
   "cell_type": "markdown",
   "source": "# Task3_5 - Klasyfikacja wektrów cech algorytmami SVM i KNN",
   "id": "1c8fb629f4f33783"
  },
  {
   "metadata": {},
   "cell_type": "markdown",
   "source": "## Importowanie bibliotek",
   "id": "1d0a62307413f107"
  },
  {
   "metadata": {
    "jupyter": {
     "is_executing": true
    },
    "ExecuteTime": {
     "start_time": "2025-05-10T10:55:48.659397Z"
    }
   },
   "cell_type": "code",
   "source": [
    "import pandas as pd\n",
    "from sklearn.model_selection import train_test_split\n",
    "from sklearn.preprocessing import LabelEncoder\n",
    "from sklearn.svm import SVC\n",
    "from sklearn.neighbors import KNeighborsClassifier\n",
    "from sklearn.metrics import accuracy_score"
   ],
   "id": "728248d4ecd69b58",
   "outputs": [],
   "execution_count": null
  },
  {
   "metadata": {},
   "cell_type": "markdown",
   "source": "## Funckja główna programu",
   "id": "49160596e0007818"
  },
  {
   "metadata": {},
   "cell_type": "code",
   "outputs": [],
   "execution_count": null,
   "source": [
    "data = pd.read_csv('./texture_features.csv')\n",
    "\n",
    "X = data.drop('category', axis=1)\n",
    "y = data['category']\n",
    "\n",
    "label_encoder = LabelEncoder()\n",
    "y_encoded = label_encoder.fit_transform(y)\n",
    "\n",
    "# Podział na zbiór treningowy i testowy\n",
    "X_train, X_test, y_train, y_test = train_test_split(X, y_encoded, test_size=0.95, random_state=42, stratify=y_encoded)\n",
    "\n",
    "# Support Vector Machine\n",
    "svm_classifier = SVC(kernel='linear', random_state=42)\n",
    "svm_classifier.fit(X_train, y_train)\n",
    "\n",
    "# Predykcja\n",
    "y_pred_svm = svm_classifier.predict(X_test)\n",
    "\n",
    "# Obliczanie dokładności\n",
    "accuracy_svm = accuracy_score(y_test, y_pred_svm)\n",
    "print(f\"Dokładność klasyfikacji SVM: {accuracy_svm:.2f}\")\n",
    "\n",
    "# K-Nearest Neighbors\n",
    "knn_classifier = KNeighborsClassifier(n_neighbors=5)\n",
    "knn_classifier.fit(X_train, y_train)\n",
    "\n",
    "# Predykcja\n",
    "y_pred_knn = knn_classifier.predict(X_test)\n",
    "\n",
    "# Obliczanie dokładności\n",
    "accuracy_knn = accuracy_score(y_test, y_pred_knn)\n",
    "print(f\"Dokładność klasyfikacji KNN: {accuracy_knn:.2f}\")"
   ],
   "id": "90d7faa1f4773158"
  }
 ],
 "metadata": {
  "kernelspec": {
   "display_name": "Python 3",
   "language": "python",
   "name": "python3"
  },
  "language_info": {
   "codemirror_mode": {
    "name": "ipython",
    "version": 2
   },
   "file_extension": ".py",
   "mimetype": "text/x-python",
   "name": "python",
   "nbconvert_exporter": "python",
   "pygments_lexer": "ipython2",
   "version": "2.7.6"
  }
 },
 "nbformat": 4,
 "nbformat_minor": 5
}
